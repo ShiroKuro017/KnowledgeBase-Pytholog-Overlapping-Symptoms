{
 "cells": [
  {
   "cell_type": "markdown",
   "id": "390eef3d",
   "metadata": {
    "panel-layout": {
     "height": 103.734,
     "visible": true,
     "width": 100
    }
   },
   "source": [
    "**Sistem Diagnosis Penyakit dengan Gejala Tumpang Tindih Menggunakan Pytholog**\n",
    "===\n",
    "---\n",
    "**Author:** *Yehezkiel Budi Hermawan [24.55.2710];&nbsp;&nbsp;Muhammad Wira Widhana [24.55.2717];&nbsp;&nbsp;Ika Kemala Sawati Azzahra [24.55.2730];&nbsp;&nbsp;Aulia Nanda Rusanti [24.55.2669]*\n"
   ]
  },
  {
   "cell_type": "markdown",
   "id": "fbfdb0bc",
   "metadata": {
    "panel-layout": {
     "height": 131.703,
     "visible": true,
     "width": 100
    }
   },
   "source": [
    "**Pytholog** adalah Python library yang memungkinkan penggunaan pemrograman logika dalam python. \n",
    "Tujuan dari library ini adalah untuk mengeksplorasi cara-cara menggunakan penalaran simbolik dengan pembelajaran mesin.\n",
    "<br/>\n",
    "\n",
    "**Penyakit Gejala Tumpang** Tindih Atau **Overlapping Symptoms** dalam konteks medis, mengacu pada fenomena di mana gejala dari satu kondisi juga muncul pada kondisi lain yang berbeda. Hal ini membuat diagnosis menjadi lebih sulit karena sulit untuk menentukan penyebab dari gejala-gejala tersebut.\n"
   ]
  },
  {
   "cell_type": "markdown",
   "id": "8338dc8f",
   "metadata": {
    "panel-layout": {
     "height": 50.7969,
     "visible": true,
     "width": 100
    },
    "vscode": {
     "languageId": "raw"
    }
   },
   "source": [
    "## *Step : 1*"
   ]
  },
  {
   "cell_type": "markdown",
   "id": "cc9a9986",
   "metadata": {
    "panel-layout": {
     "height": 87.4219,
     "visible": true,
     "width": 100
    }
   },
   "source": [
    "install module pytholog\n",
    "untuk menginstall module pytholog\n",
    "menggunakan Script **``pip install pytholog``**"
   ]
  },
  {
   "cell_type": "code",
   "execution_count": null,
   "id": "57c76172",
   "metadata": {},
   "outputs": [],
   "source": [
    "pip install pytholog"
   ]
  },
  {
   "cell_type": "markdown",
   "id": "e52494e8",
   "metadata": {
    "panel-layout": {
     "height": 51.1406,
     "visible": true,
     "width": 100
    }
   },
   "source": [
    ">**Note :** Step ini wajib karena jika tidak menginstal module pasti akan error"
   ]
  },
  {
   "cell_type": "markdown",
   "id": "3cb7ae10",
   "metadata": {
    "panel-layout": {
     "height": 297.969,
     "visible": true,
     "width": 100
    }
   },
   "source": [
    "Setelah itu masukan dataset seperti penyakit & gejala nya ke Knowledge Base\n",
    "\n",
    "**list penyakit:**\n",
    "\n",
    "* **flu**: \n",
    "    demam, batuk, lemas\n",
    "* **demam_berdarah**: \n",
    "    demam_tinggi, nyeri_otot, ruam_kulit\n",
    "* **campak**: \n",
    "    demam, ruam_kulit, mata_merah\n",
    "* **alergi**: \n",
    "    ruam_kulit, gatal, bersin\n",
    "* **hipotiroid**: \n",
    "    lemas, berat_badan_naik, sulit_konsentrasi,\n",
    "* **covid19**: \n",
    "    demam, batuk, lemas, sesak_nafas"
   ]
  },
  {
   "cell_type": "markdown",
   "id": "8238f912",
   "metadata": {
    "panel-layout": {
     "height": 50.7969,
     "visible": true,
     "width": 100
    }
   },
   "source": [
    "## *Step : 2*"
   ]
  },
  {
   "cell_type": "code",
   "execution_count": 8,
   "id": "b57318b6-cd67-440b-973c-1b854d652447",
   "metadata": {},
   "outputs": [
    {
     "name": "stdout",
     "output_type": "stream",
     "text": [
      "Hasil Diagnosis:\n",
      "- Covid19 (Kepastian: 100%)\n"
     ]
    }
   ],
   "source": [
    "import pytholog as pl\n",
    "\n",
    "# KnowledgeBase\n",
    "kb = pl.KnowledgeBase(\"diagnosis_penyakit\")\n",
    "\n",
    "# Input gejala pasien\n",
    "gejala_pasien = [\"demam\", \"sesak_nafas\", \"batuk\"]\n",
    "\n",
    "# diagnosis penyakit (semua gejala harus cocok)\n",
    "kb([\n",
    "    \"penyakit(flu, 1.0) :- gejala(demam), gejala(batuk), gejala(lemas)\",\n",
    "    \"penyakit(demam_berdarah, 1.0) :- gejala(demam_tinggi), gejala(nyeri_otot), gejala(ruam_kulit)\",\n",
    "    \"penyakit(campak, 1.0) :- gejala(demam), gejala(ruam_kulit), gejala(mata_merah)\",\n",
    "    \"penyakit(alergi, 1.0) :- gejala(ruam_kulit), gejala(gatal), gejala(bersin)\",\n",
    "    \"penyakit(hipotiroid, 1.0) :- gejala(lemas), gejala(berat_badan_naik), gejala(sulit_konsentrasi)\",\n",
    "    \"penyakit(covid19, 1.0) :- gejala(demam), gejala(batuk), gejala(sesak_nafas)\"\n",
    "] + [f\"gejala({g})\" for g in gejala_pasien])  # fakta gejala pasien\n",
    "\n",
    "# query diagnosis\n",
    "hasil_diagnosis = kb.query(pl.Expr(\"penyakit(Penyakit, Kepastian)\"))\n",
    "\n",
    "# gejala lengkap per penyakit untuk validasi manual\n",
    "aturan_gejala = {\n",
    "    \"flu\": {\"demam\", \"batuk\", \"lemas\"},\n",
    "    \"demam_berdarah\": {\"demam_tinggi\", \"nyeri_otot\", \"ruam_kulit\"},\n",
    "    \"campak\": {\"demam\", \"ruam_kulit\", \"mata_merah\"},\n",
    "    \"alergi\": {\"ruam_kulit\", \"gatal\", \"bersin\"},\n",
    "    \"hipotiroid\": {\"lemas\", \"berat_badan_naik\", \"sulit_konsentrasi\"},\n",
    "    \"covid19\": {\"demam\", \"batuk\", \"sesak_nafas\"}\n",
    "}\n",
    "\n",
    "# hasil diagnosis menjadi set untuk hilangkan duplikasi\n",
    "gejala_pasien_set = set(gejala_pasien)\n",
    "hasil_valid = set()\n",
    "for d in hasil_diagnosis:\n",
    "    penyakit = d[\"Penyakit\"]\n",
    "    if penyakit in aturan_gejala:\n",
    "        if aturan_gejala[penyakit].issubset(gejala_pasien_set):\n",
    "            hasil_valid.add((penyakit, d[\"Kepastian\"])) \n",
    "\n",
    "# hasil akhir\n",
    "print(\"Hasil Diagnosis:\")\n",
    "if hasil_valid:\n",
    "    for penyakit, kepastian in hasil_valid:\n",
    "        persen = int(float(kepastian)*100)\n",
    "        print(f\"- {penyakit.capitalize()} (Kepastian: {persen}%)\")\n",
    "else:\n",
    "    print(\"- Tidak ada penyakit yang cocok dengan semua gejala.\")"
   ]
  },
  {
   "cell_type": "markdown",
   "id": "6bc74746",
   "metadata": {
    "panel-layout": {
     "height": 84.2813,
     "visible": true,
     "width": 100
    }
   },
   "source": [
    "***`aturan_gejala`*** dibuat untuk mevalidasi penyakit dan gejalanya secara manual dikarenakan Pytholog KnowledgeBase Class tidak memiliki metode **`add_fact()`** sehingga harus di atur secara manual melalui  python langsung\n",
    "\n",
    "***`gejala_pasien_set`*** dibuat untuk melakukan cek terhadap hasil diagnosis yang kemudian di hilangkan duplikasinya \n",
    "\n",
    "<br>\n",
    "<br>\n",
    "<br>\n",
    "<br>"
   ]
  },
  {
   "cell_type": "markdown",
   "id": "c5bbf0b3",
   "metadata": {
    "panel-layout": {
     "height": 24,
     "visible": true,
     "width": 100
    }
   },
   "source": [
    "---"
   ]
  },
  {
   "cell_type": "markdown",
   "id": "829e774d",
   "metadata": {
    "panel-layout": {
     "height": 453.5,
     "visible": true,
     "width": 100
    }
   },
   "source": [
    "## **Template untuk menambahkan penyakit**\n",
    "\n",
    "Template untuk di Line **`kb`** : \n",
    "- *`penyakit(nama_penyakit, 1.0) :- gejala(A), gejala(B), gejala(C)`*\n",
    "<br>\n",
    "<br>\n",
    "\n",
    "Ganti *`nama_penyakit`* dan isi bagian *`gejala(A,B,C)`* dengan gejala dari penyakit tersebut. Normalnya hanya menggunakan ***3 Gejala***\n",
    "- **Contoh** penulisannya : **`penyakit(covid19, 1.0) :- gejala(demam), gejala(batuk), gejala(lemas), gejala(sesak_nafas)`**\n",
    "\n",
    "<br>\n",
    "<br>\n",
    "\n",
    "\n",
    "Template untuk di Line **`aturan_gejala`** : \n",
    "* **`\"nama_penyakit\": {\"gejala_1\", \"gejala_2\", \"gejala_3\", \"gejala_4\"}`**\n",
    "<br>\n",
    "<br>\n",
    "\n",
    "Ganti *`nama_penyakit`* menjadi nama penyakit dan Ganti bagian *`gejala_1,2,3`* menjadi gejala dari penyakit tersebut. Normalnya hanya menggunakan ***3 Gejala***\n",
    "* **contoh** penulisannya : **`\"covid19\": {\"demam\", \"batuk\", \"lemas\", \"sesak_nafas\"}`**\n",
    "\n",
    "\n",
    "<br>\n",
    "<br>\n",
    "<br>\n",
    "<br>"
   ]
  },
  {
   "cell_type": "markdown",
   "id": "0e149a13",
   "metadata": {
    "panel-layout": {
     "height": 50.7969,
     "visible": true,
     "width": 100
    }
   },
   "source": [
    "**Reff**: [Pytholog](https://mnoorfawi.github.io/pytholog/How%20pytholog%20works/)\n",
    "---"
   ]
  }
 ],
 "metadata": {
  "kernelspec": {
   "display_name": "Python 3",
   "language": "python",
   "name": "python3"
  },
  "language_info": {
   "codemirror_mode": {
    "name": "ipython",
    "version": 3
   },
   "file_extension": ".py",
   "mimetype": "text/x-python",
   "name": "python",
   "nbconvert_exporter": "python",
   "pygments_lexer": "ipython3",
   "version": "3.13.3"
  },
  "panel-cell-order": [
   "390eef3d",
   "fbfdb0bc",
   "8338dc8f",
   "cc9a9986",
   "e52494e8",
   "3cb7ae10",
   "8238f912",
   "6bc74746",
   "c5bbf0b3",
   "829e774d",
   "0e149a13"
  ]
 },
 "nbformat": 4,
 "nbformat_minor": 5
}
